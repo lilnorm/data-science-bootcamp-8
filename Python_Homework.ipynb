{
  "nbformat": 4,
  "nbformat_minor": 0,
  "metadata": {
    "colab": {
      "provenance": [],
      "authorship_tag": "ABX9TyPuIZw/HG0ROg28i/+DZK/f",
      "include_colab_link": true
    },
    "kernelspec": {
      "name": "python3",
      "display_name": "Python 3"
    },
    "language_info": {
      "name": "python"
    }
  },
  "cells": [
    {
      "cell_type": "markdown",
      "metadata": {
        "id": "view-in-github",
        "colab_type": "text"
      },
      "source": [
        "<a href=\"https://colab.research.google.com/github/lilnorm/data-science-bootcamp-8/blob/main/Python_Homework.ipynb\" target=\"_parent\"><img src=\"https://colab.research.google.com/assets/colab-badge.svg\" alt=\"Open In Colab\"/></a>"
      ]
    },
    {
      "cell_type": "code",
      "execution_count": null,
      "metadata": {
        "id": "wQPZ3yX9EGJ5"
      },
      "outputs": [],
      "source": []
    },
    {
      "cell_type": "markdown",
      "source": [
        "# HW01 - create game pao ying chub"
      ],
      "metadata": {
        "id": "y50IluElENhS"
      }
    },
    {
      "cell_type": "code",
      "source": [
        "import random as rd\n",
        "\n",
        "def pao_ying_chub():\n",
        "    print(\"Pao-Ying-Chub Game!\")\n",
        "    ans1 = input(\"Are you ready! (y/n): \")\n",
        "    n_win = 0\n",
        "    n_lose = 0\n",
        "    n_draw = 0\n",
        "    select = [\"rock\", \"scissor\", \"paper\"]\n",
        "\n",
        "    if ans1 == \"y\":\n",
        "        while True:\n",
        "            bot = rd.sample(select, 1)[0]\n",
        "            player = input(\"Select: rock, scissor, paper: \")\n",
        "            if player == bot:\n",
        "                n_draw += 1\n",
        "                print(\"DRAW\")\n",
        "            elif player.lower() == \"rock\":\n",
        "                if bot == \"scissor\":\n",
        "                    n_win += 1\n",
        "                    print(\"WIN\")\n",
        "                else:\n",
        "                    n_lose += 1\n",
        "                    print(\"LOSE\")\n",
        "            elif player.lower() == \"scissor\":\n",
        "                if bot == \"paper\":\n",
        "                    n_win += 1\n",
        "                    print(\"WIN\")\n",
        "                else:\n",
        "                    n_lose += 1\n",
        "                    print(\"LOSE\")\n",
        "            elif player.lower() == \"paper\":\n",
        "                if bot == \"rock\":\n",
        "                    n_win += 1\n",
        "                    print(\"WIN\")\n",
        "                else:\n",
        "                    n_lose += 1\n",
        "                    print(\"LOSE\")\n",
        "            elif player.lower() == \"quit\":\n",
        "                print(\"Summary:\")\n",
        "                print(f\"Total wins: {n_win}\")\n",
        "                print(f\"Total lose: {n_lose}\")\n",
        "                print(f\"Total draw: {n_draw}\")\n",
        "                print(\"Thank you to join us!, See you next time!\")\n",
        "                break\n",
        "            else:\n",
        "                print(\"Nope! please try again\")\n",
        "\n",
        "\n",
        "pao_ying_chub()\n"
      ],
      "metadata": {
        "colab": {
          "base_uri": "https://localhost:8080/"
        },
        "id": "_ccY-iD8EVI4",
        "outputId": "35084eaa-4ee3-478f-8554-cea3ffa04a2b"
      },
      "execution_count": 6,
      "outputs": [
        {
          "output_type": "stream",
          "name": "stdout",
          "text": [
            "Pao-Ying-Chub Game!\n",
            "Are you ready! (y/n): y\n",
            "Select: rock, scissor, paper: paper\n",
            "WIN\n",
            "Select: rock, scissor, paper: rock\n",
            "LOSE\n",
            "Select: rock, scissor, paper: eiei\n",
            "Nope! please try again\n",
            "Select: rock, scissor, paper: paper\n",
            "DRAW\n",
            "Select: rock, scissor, paper: scissor\n",
            "WIN\n",
            "Select: rock, scissor, paper: scissor\n",
            "DRAW\n",
            "Select: rock, scissor, paper: paper\n",
            "WIN\n",
            "Select: rock, scissor, paper: rock\n",
            "WIN\n",
            "Select: rock, scissor, paper: rock\n",
            "LOSE\n",
            "Select: rock, scissor, paper: rock\n",
            "LOSE\n",
            "Select: rock, scissor, paper: paper\n",
            "LOSE\n",
            "Select: rock, scissor, paper: paper\n",
            "WIN\n",
            "Select: rock, scissor, paper: paper\n",
            "WIN\n",
            "Select: rock, scissor, paper: scissor\n",
            "WIN\n",
            "Select: rock, scissor, paper: quit\n",
            "Summary:\n",
            "Total wins: 7\n",
            "Total lose: 4\n",
            "Total draw: 2\n",
            "Thank you to join us!, See you next time!\n"
          ]
        }
      ]
    },
    {
      "cell_type": "code",
      "source": [],
      "metadata": {
        "id": "ozl29-nDEfry"
      },
      "execution_count": null,
      "outputs": []
    }
  ]
}