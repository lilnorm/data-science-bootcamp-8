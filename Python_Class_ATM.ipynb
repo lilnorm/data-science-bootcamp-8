{
  "nbformat": 4,
  "nbformat_minor": 0,
  "metadata": {
    "colab": {
      "provenance": [],
      "authorship_tag": "ABX9TyOprPUwGSth+zVL7ZOllBvv",
      "include_colab_link": true
    },
    "kernelspec": {
      "name": "python3",
      "display_name": "Python 3"
    },
    "language_info": {
      "name": "python"
    }
  },
  "cells": [
    {
      "cell_type": "markdown",
      "metadata": {
        "id": "view-in-github",
        "colab_type": "text"
      },
      "source": [
        "<a href=\"https://colab.research.google.com/github/lilnorm/data-science-bootcamp-8/blob/main/Python_Class_ATM.ipynb\" target=\"_parent\"><img src=\"https://colab.research.google.com/assets/colab-badge.svg\" alt=\"Open In Colab\"/></a>"
      ]
    },
    {
      "cell_type": "markdown",
      "source": [
        "# HW02 - Class ATM with 5 methods"
      ],
      "metadata": {
        "id": "cJut5boBqXrK"
      }
    },
    {
      "cell_type": "code",
      "source": [
        "class ATM:\n",
        "    def __init__(self, name, account_number, balance=0):\n",
        "        self.name = name\n",
        "        self.account_number = account_number\n",
        "        self.balance = balance\n",
        "\n",
        "    def account_detail(self):\n",
        "        print(f\"Account name: {self.name.upper()}\")\n",
        "        print(f\"Account number: {self.account_number}\")\n",
        "        print(f\"Available balance: {self.balance} THB\")\n",
        "\n",
        "    def deposit(self,amount):\n",
        "        self.amount = amount\n",
        "        self.balance += self.amount\n",
        "        print(f\"Deposit {amount} THB successfully!\")\n",
        "        print(f\"Current balance: {self.balance} THB\")\n",
        "\n",
        "    def withdraw(self,amount):\n",
        "        self.amount = amount\n",
        "        if self.balance < self.amount:\n",
        "            print(f\"Sorry! Your balance have only {self.balance} THB. It's not enough \")\n",
        "            print(\"Please deposit more or withdraw lesser than your balance.\")\n",
        "        else:\n",
        "            self.balance -= self.amount\n",
        "            print(f\"Withdraw {amount} THB successfully!\")\n",
        "            print(f\"Current balance: {self.balance} THB\")\n",
        "\n",
        "    def transfer(self, amount, account_receiver_number):\n",
        "        self.amount = amount\n",
        "        self.account_receiver = account_receiver_number\n",
        "        if self.balance < self.amount:\n",
        "            print(f\"Cannot transfer! Your balance has only {self.balance} THB.\")\n",
        "            print(\"Please transfer lesser amount than your balance.\")\n",
        "        else:\n",
        "            self.balance -= self.amount\n",
        "            print(f\"Transfer {amount} to {account_receiver_number} successfully!\")\n",
        "            print(f\"Available balance: {self.balance} THB\")\n",
        "\n",
        "    def check_balance(self):\n",
        "        print(f\"Available balance: {self.balance} THB\")"
      ],
      "metadata": {
        "id": "pTp7MvYyqdNC"
      },
      "execution_count": 110,
      "outputs": []
    },
    {
      "cell_type": "code",
      "source": [
        "atm = ATM(\"Names\", \"123456789\")"
      ],
      "metadata": {
        "id": "7nGoTJJ8_-hl"
      },
      "execution_count": 111,
      "outputs": []
    },
    {
      "cell_type": "code",
      "source": [
        "atm.account_detail()"
      ],
      "metadata": {
        "colab": {
          "base_uri": "https://localhost:8080/"
        },
        "id": "ASZ6O8MZKJFk",
        "outputId": "6c48fa57-da32-49bb-f4e7-a45976d1c6c5"
      },
      "execution_count": 112,
      "outputs": [
        {
          "output_type": "stream",
          "name": "stdout",
          "text": [
            "Account name: NAMES\n",
            "Account number: 123456789\n",
            "Available balance: 0 THB\n"
          ]
        }
      ]
    },
    {
      "cell_type": "code",
      "source": [
        "atm.check_balance()"
      ],
      "metadata": {
        "colab": {
          "base_uri": "https://localhost:8080/"
        },
        "id": "p7no1KJbKPQN",
        "outputId": "8a98becf-89d4-46b7-a737-e3f3249546f8"
      },
      "execution_count": 113,
      "outputs": [
        {
          "output_type": "stream",
          "name": "stdout",
          "text": [
            "Available balance: 0 THB\n"
          ]
        }
      ]
    },
    {
      "cell_type": "code",
      "source": [
        "atm.withdraw(1000)"
      ],
      "metadata": {
        "colab": {
          "base_uri": "https://localhost:8080/"
        },
        "id": "2CLpOgIEKUnH",
        "outputId": "2e585d48-9f5a-46d9-8cbc-131ed076d8fc"
      },
      "execution_count": 114,
      "outputs": [
        {
          "output_type": "stream",
          "name": "stdout",
          "text": [
            "Sorry! Your balance have only 0 THB. It's not enough \n",
            "Please deposit more or withdraw lesser than your balance.\n"
          ]
        }
      ]
    },
    {
      "cell_type": "code",
      "source": [
        "atm.transfer(1000, 123322)"
      ],
      "metadata": {
        "colab": {
          "base_uri": "https://localhost:8080/"
        },
        "id": "5sx9t3GlMARH",
        "outputId": "e8240cad-8d4c-4057-a934-660d87d76640"
      },
      "execution_count": 115,
      "outputs": [
        {
          "output_type": "stream",
          "name": "stdout",
          "text": [
            "Cannot transfer! Your balance has only 0 THB.\n",
            "Please transfer lesser amount than your balance.\n"
          ]
        }
      ]
    },
    {
      "cell_type": "code",
      "source": [
        "atm.deposit(100000)"
      ],
      "metadata": {
        "id": "2CyvDGjkM53N",
        "colab": {
          "base_uri": "https://localhost:8080/"
        },
        "outputId": "6c55b56a-194d-4807-9c31-6ba30761b903"
      },
      "execution_count": 116,
      "outputs": [
        {
          "output_type": "stream",
          "name": "stdout",
          "text": [
            "Deposit 100000 THB successfully!\n",
            "Current balance: 100000 THB\n"
          ]
        }
      ]
    },
    {
      "cell_type": "code",
      "source": [
        "atm.check_balance()"
      ],
      "metadata": {
        "colab": {
          "base_uri": "https://localhost:8080/"
        },
        "id": "EaLga0SZNsYT",
        "outputId": "4f554828-cf66-47f9-f38d-38b8f3597077"
      },
      "execution_count": 117,
      "outputs": [
        {
          "output_type": "stream",
          "name": "stdout",
          "text": [
            "Available balance: 100000 THB\n"
          ]
        }
      ]
    },
    {
      "cell_type": "code",
      "source": [
        "atm.withdraw(30000)"
      ],
      "metadata": {
        "colab": {
          "base_uri": "https://localhost:8080/"
        },
        "id": "uT13Ns9mNx2i",
        "outputId": "1e45d4bb-da18-41b5-a0b4-aca0fe604f79"
      },
      "execution_count": 118,
      "outputs": [
        {
          "output_type": "stream",
          "name": "stdout",
          "text": [
            "Withdraw 30000 THB successfully!\n",
            "Current balance: 70000 THB\n"
          ]
        }
      ]
    },
    {
      "cell_type": "code",
      "source": [
        "atm.transfer(50000, 1150)"
      ],
      "metadata": {
        "colab": {
          "base_uri": "https://localhost:8080/"
        },
        "id": "M3UcMTqAN1jT",
        "outputId": "f4565e71-0340-46d8-d4f5-d6a7fd204271"
      },
      "execution_count": 119,
      "outputs": [
        {
          "output_type": "stream",
          "name": "stdout",
          "text": [
            "Transfer 50000 to 1150 successfully!\n",
            "Available balance: 20000 THB\n"
          ]
        }
      ]
    },
    {
      "cell_type": "code",
      "source": [
        "atm.account_detail()"
      ],
      "metadata": {
        "colab": {
          "base_uri": "https://localhost:8080/"
        },
        "id": "svxYonPcN_yW",
        "outputId": "ce489d1d-a0e8-480b-b0cc-b7b21ffafd37"
      },
      "execution_count": 120,
      "outputs": [
        {
          "output_type": "stream",
          "name": "stdout",
          "text": [
            "Account name: NAMES\n",
            "Account number: 123456789\n",
            "Available balance: 20000 THB\n"
          ]
        }
      ]
    },
    {
      "cell_type": "code",
      "source": [],
      "metadata": {
        "id": "UIumr3qpPT_P"
      },
      "execution_count": null,
      "outputs": []
    }
  ]
}